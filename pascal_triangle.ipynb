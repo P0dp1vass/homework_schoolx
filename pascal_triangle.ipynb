{
 "cells": [
  {
   "cell_type": "code",
   "execution_count": 5,
   "id": "7ae5e02e-9fa9-4b1e-b2f7-63fde1a3ee0d",
   "metadata": {},
   "outputs": [
    {
     "name": "stdin",
     "output_type": "stream",
     "text": [
      " 5\n"
     ]
    },
    {
     "name": "stdout",
     "output_type": "stream",
     "text": [
      "    1\n",
      "   1 1\n",
      "  1 2 1\n",
      " 1 3 3 1\n",
      "1 4 6 4 1\n"
     ]
    }
   ],
   "source": [
    "seq = [[1]]\n",
    "cur_seq = [1]\n",
    "n = int(input())\n",
    "\n",
    "for _ in range(n - 1):\n",
    "    new_seq = []\n",
    "    cur_seq = [0] + cur_seq + [0]\n",
    "    for i in range(len(cur_seq) - 1):\n",
    "        new_seq.append(cur_seq[i] + cur_seq[i + 1])\n",
    "    cur_seq = new_seq\n",
    "    seq.append(cur_seq)\n",
    "\n",
    "for row in seq:\n",
    "    st = ''\n",
    "    st = [str(number) for number in row]\n",
    "    print(' '* (n - 1) + ' '.join(st))\n",
    "    n -= 1"
   ]
  }
 ],
 "metadata": {
  "kernelspec": {
   "display_name": "Python 3 (ipykernel)",
   "language": "python",
   "name": "python3"
  },
  "language_info": {
   "codemirror_mode": {
    "name": "ipython",
    "version": 3
   },
   "file_extension": ".py",
   "mimetype": "text/x-python",
   "name": "python",
   "nbconvert_exporter": "python",
   "pygments_lexer": "ipython3",
   "version": "3.12.11"
  }
 },
 "nbformat": 4,
 "nbformat_minor": 5
}
