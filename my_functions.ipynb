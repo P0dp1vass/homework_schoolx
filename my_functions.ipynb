{
 "cells": [
  {
   "cell_type": "code",
   "execution_count": 7,
   "id": "41b7f92e-df2b-47bf-8a9e-15c12f96a845",
   "metadata": {},
   "outputs": [
    {
     "name": "stdout",
     "output_type": "stream",
     "text": [
      "k I r I l L\n"
     ]
    },
    {
     "data": {
      "text/html": [
       "<pre style=\"white-space:pre;overflow-x:auto;line-height:normal;font-family:Menlo,'DejaVu Sans Mono',consolas,'Courier New',monospace\">Hello <span style=\"color: #000080; text-decoration-color: #000080; font-weight: bold\">Kirill</span>\n",
       "</pre>\n"
      ],
      "text/plain": [
       "Hello \u001b[1;34mKirill\u001b[0m\n"
      ]
     },
     "metadata": {},
     "output_type": "display_data"
    }
   ],
   "source": [
    "from rich import print as rprint\n",
    "\n",
    "def greetings(name):\n",
    "    rprint(f'Hello [bold blue]{name}')\n",
    "    \n",
    "\n",
    "def change_name(name):\n",
    "    name_lower = [symbol.lower() for symbol in name]\n",
    "    new_name = []\n",
    "    for i in range(len(name_lower)):\n",
    "        if i % 2 == 1:\n",
    "            new_name.append(name_lower[i].upper())\n",
    "        else:\n",
    "            new_name.append(name_lower[i])\n",
    "    return new_name\n",
    "print(*change_name('Kirill'))\n",
    "greetings('Kirill')"
   ]
  }
 ],
 "metadata": {
  "kernelspec": {
   "display_name": "Python 3 (ipykernel)",
   "language": "python",
   "name": "python3"
  },
  "language_info": {
   "codemirror_mode": {
    "name": "ipython",
    "version": 3
   },
   "file_extension": ".py",
   "mimetype": "text/x-python",
   "name": "python",
   "nbconvert_exporter": "python",
   "pygments_lexer": "ipython3",
   "version": "3.12.11"
  }
 },
 "nbformat": 4,
 "nbformat_minor": 5
}
