{
 "cells": [
  {
   "cell_type": "code",
   "execution_count": 18,
   "id": "2a537f29-b78f-4992-9317-53827a83d361",
   "metadata": {},
   "outputs": [
    {
     "name": "stdin",
     "output_type": "stream",
     "text": [
      " 2000\n"
     ]
    },
    {
     "name": "stdout",
     "output_type": "stream",
     "text": [
      "4224696333392304878706725602341482782579852840250681098010280137314308584370130707224123599639141511088446087538909603607640194711643596029271983312598737326253555802606991585915229492453904998722256795316982874482472992263901833716778060607011615497886719879858311468870876264597369086722884023654422295243347964480139515349562972087652656069529806499841977448720155612802665404554171717881930324025204312082516817125\n"
     ]
    }
   ],
   "source": [
    "MY_CACHE = {\n",
    "            0:0,\n",
    "            1:1,\n",
    "            2:1,\n",
    "            }\n",
    "def  fbc(n):\n",
    "    if n in MY_CACHE:\n",
    "        return MY_CACHE[n]\n",
    "    cur = fbc(n - 1) + fbc(n - 2)\n",
    "    MY_CACHE[n] = cur\n",
    "    return cur\n",
    "print(fbc(int(input())))"
   ]
  }
 ],
 "metadata": {
  "kernelspec": {
   "display_name": "Python 3 (ipykernel)",
   "language": "python",
   "name": "python3"
  },
  "language_info": {
   "codemirror_mode": {
    "name": "ipython",
    "version": 3
   },
   "file_extension": ".py",
   "mimetype": "text/x-python",
   "name": "python",
   "nbconvert_exporter": "python",
   "pygments_lexer": "ipython3",
   "version": "3.12.11"
  }
 },
 "nbformat": 4,
 "nbformat_minor": 5
}
